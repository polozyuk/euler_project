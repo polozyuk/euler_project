{
 "metadata": {
  "language_info": {
   "codemirror_mode": {
    "name": "ipython",
    "version": 3
   },
   "file_extension": ".py",
   "mimetype": "text/x-python",
   "name": "python",
   "nbconvert_exporter": "python",
   "pygments_lexer": "ipython3",
   "version": "3.8.4-final"
  },
  "orig_nbformat": 2,
  "kernelspec": {
   "name": "python3",
   "display_name": "Python 3.8.4 32-bit",
   "metadata": {
    "interpreter": {
     "hash": "832572e6e11cb84a87a1c4da7a707ec7b9e7e55a527aa659d38076074797b5fb"
    }
   }
  }
 },
 "nbformat": 4,
 "nbformat_minor": 2,
 "cells": [
  {
   "source": [
    "sum = 0\n",
    "for i in range(1000):\n",
    "    if i%3 == 0 or i%5 == 0:\n",
    "        sum += i\n",
    "\n",
    "print(sum)"
   ],
   "cell_type": "code",
   "metadata": {},
   "execution_count": null,
   "outputs": []
  },
  {
   "cell_type": "code",
   "execution_count": null,
   "metadata": {},
   "outputs": [],
   "source": [
    "previous = 1\n",
    "current = 1\n",
    "sum = 0\n",
    "even_valued = 1\n",
    "while current < 4_000_000:\n",
    "    if even_valued%2 == 0:\n",
    "        sum = sum + current\n",
    "    previous, current = current, current + previous\n",
    "    even_valued += 1\n",
    "\n",
    "print(sum)"
   ]
  },
  {
   "cell_type": "code",
   "execution_count": null,
   "metadata": {
    "tags": []
   },
   "outputs": [],
   "source": [
    "def add_to_result(num, divide, res_list):\n",
    "    for item in res_list:\n",
    "        if item[0] == num:\n",
    "                    if divide not in item[1]:\n",
    "                        item[1].append(divide)\n",
    "                        return\n",
    "    result.append([num,[divide]])\n",
    "\n",
    "given_number = 851475143\n",
    "list = []\n",
    "result = []\n",
    "number = 1\n",
    "while number < given_number:\n",
    "    if given_number%number == 0:\n",
    "        list.append(number)\n",
    "    number+=1\n",
    "\n",
    "for i in list:\n",
    "    j = 1\n",
    "    while j <= i:\n",
    "        if i%j == 0:\n",
    "            add_to_result(i, j, result)\n",
    "        j+=1\n",
    "\n",
    "print(list)\n",
    "print(result)\n",
    "\n",
    "for element in result:\n",
    "    if len(element[1]) <= 2:\n",
    "        print(element)\n",
    "\n"
   ]
  },
  {
   "cell_type": "code",
   "execution_count": null,
   "metadata": {},
   "outputs": [],
   "source": [
    "\n",
    "desired_number = 600851475143\n",
    "num = 1\n",
    "numbers = [] \n",
    "while num < desired_number: \n",
    "    if (num % 2) != 0:\n",
    "        if (desired_number % num) == 0:\n",
    "            numbers.append(num)\n",
    "    num += 1\n",
    "print(max(numbers))"
   ]
  },
  {
   "cell_type": "code",
   "execution_count": 1,
   "metadata": {},
   "outputs": [
    {
     "output_type": "stream",
     "name": "stdout",
     "text": [
      "Все) вот: 6857\n"
     ]
    }
   ],
   "source": [
    "num = 600851475143\n",
    "a = 0\n",
    "\n",
    "for a in range(1000000) :\n",
    "    a += 1\n",
    "    if num % a == 0 :\n",
    "        num /= a\n",
    "        if num == 1 :\n",
    "         print(\"Все) вот: \" + str(a))"
   ]
  },
  {
   "cell_type": "code",
   "execution_count": null,
   "metadata": {},
   "outputs": [],
   "source": []
  }
 ]
}