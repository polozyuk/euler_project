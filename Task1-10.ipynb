{
 "metadata": {
  "language_info": {
   "codemirror_mode": {
    "name": "ipython",
    "version": 3
   },
   "file_extension": ".py",
   "mimetype": "text/x-python",
   "name": "python",
   "nbconvert_exporter": "python",
   "pygments_lexer": "ipython3",
   "version": "3.8.4-final"
  },
  "orig_nbformat": 2,
  "kernelspec": {
   "name": "python3",
   "display_name": "Python 3.8.4 32-bit",
   "metadata": {
    "interpreter": {
     "hash": "832572e6e11cb84a87a1c4da7a707ec7b9e7e55a527aa659d38076074797b5fb"
    }
   }
  }
 },
 "nbformat": 4,
 "nbformat_minor": 2,
 "cells": [
  {
   "source": [
    "sum = 0\n",
    "for i in range(1000):\n",
    "    if i%3 == 0 or i%5 == 0:\n",
    "        sum += i\n",
    "\n",
    "print(sum)"
   ],
   "cell_type": "code",
   "metadata": {},
   "execution_count": 4,
   "outputs": [
    {
     "output_type": "stream",
     "name": "stdout",
     "text": [
      "233168\n"
     ]
    }
   ]
  },
  {
   "cell_type": "code",
   "execution_count": 22,
   "metadata": {},
   "outputs": [
    {
     "output_type": "stream",
     "name": "stdout",
     "text": [
      "5702886\n"
     ]
    }
   ],
   "source": [
    "previous = 1\n",
    "current = 1\n",
    "sum = 0\n",
    "even_valued = 1\n",
    "while current < 4_000_000:\n",
    "    if even_valued%2 == 0:\n",
    "        sum = sum + current\n",
    "    previous, current = current, current + previous\n",
    "    even_valued += 1\n",
    "\n",
    "print(sum)\n",
    "\n"
   ]
  },
  {
   "cell_type": "code",
   "execution_count": null,
   "metadata": {},
   "outputs": [],
   "source": []
  }
 ]
}